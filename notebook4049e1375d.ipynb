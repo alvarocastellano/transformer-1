{
 "cells": [
  {
   "cell_type": "code",
   "execution_count": 1,
   "id": "13cf7959",
   "metadata": {
    "_cell_guid": "b1076dfc-b9ad-4769-8c92-a6c4dae69d19",
    "_uuid": "8f2839f25d086af736a60e9eeb907d3b93b6e0e5",
    "execution": {
     "iopub.execute_input": "2022-06-22T22:45:22.301182Z",
     "iopub.status.busy": "2022-06-22T22:45:22.300097Z",
     "iopub.status.idle": "2022-06-22T22:45:22.316037Z",
     "shell.execute_reply": "2022-06-22T22:45:22.315244Z"
    },
    "papermill": {
     "duration": 0.028474,
     "end_time": "2022-06-22T22:45:22.321230",
     "exception": false,
     "start_time": "2022-06-22T22:45:22.292756",
     "status": "completed"
    },
    "tags": []
   },
   "outputs": [
    {
     "data": {
      "text/plain": [
       "'from PIL import Image\\nimport matplotlib.pyplot as plt\\nimport numpy as np # linear algebra\\nimport pandas as pd # data processing, CSV file I/O (e.g. pd.read_csv)\\n# Input data files are available in the read-only \"../input/\" directory\\n# For example, running this (by clicking run or pressing Shift+Enter) will list all files under the input directory\\n\\nimport os\\ncontador = 0\\nfor dirname, _, filenames in os.walk(\\'/kaggle/input\\'):\\n    for filename in filenames:\\n        images = os.path.join(dirname, filename)      \\n        \\'print(images)\\'\\nfor image in images:\\n    img = Image.open(\\'image\\')\\n    fig = plt.figure()\\n    plt.imshow(img)\\n'"
      ]
     },
     "execution_count": 1,
     "metadata": {},
     "output_type": "execute_result"
    }
   ],
   "source": [
    "# This Python 3 environment comes with many helpful analytics libraries installed\n",
    "# It is defined by the kaggle/python Docker image: https://github.com/kaggle/docker-python\n",
    "# For example, here's several helpful packages to load\n",
    "\n",
    "#IMPRESION DE RUTAS DE IMAGENES POR PANTALLA\n",
    "'''from PIL import Image\n",
    "import matplotlib.pyplot as plt\n",
    "import numpy as np # linear algebra\n",
    "import pandas as pd # data processing, CSV file I/O (e.g. pd.read_csv)\n",
    "# Input data files are available in the read-only \"../input/\" directory\n",
    "# For example, running this (by clicking run or pressing Shift+Enter) will list all files under the input directory\n",
    "\n",
    "import os\n",
    "contador = 0\n",
    "for dirname, _, filenames in os.walk('/kaggle/input'):\n",
    "    for filename in filenames:\n",
    "        images = os.path.join(dirname, filename)      \n",
    "        'print(images)'\n",
    "for image in images:\n",
    "    img = Image.open('image')\n",
    "    fig = plt.figure()\n",
    "    plt.imshow(img)\n",
    "'''\n",
    "# You can write up to 20GB to the current directory (/kaggle/working/) that gets preserved as output when you create a version using \"Save & Run All\" \n",
    "# You can also write temporary files to /kaggle/temp/, but they won't be saved outside of the current session"
   ]
  },
  {
   "cell_type": "code",
   "execution_count": 2,
   "id": "2cdfe4dd",
   "metadata": {
    "execution": {
     "iopub.execute_input": "2022-06-22T22:45:22.331437Z",
     "iopub.status.busy": "2022-06-22T22:45:22.330705Z",
     "iopub.status.idle": "2022-06-22T22:45:22.336734Z",
     "shell.execute_reply": "2022-06-22T22:45:22.336090Z"
    },
    "papermill": {
     "duration": 0.012992,
     "end_time": "2022-06-22T22:45:22.338356",
     "exception": false,
     "start_time": "2022-06-22T22:45:22.325364",
     "status": "completed"
    },
    "tags": []
   },
   "outputs": [
    {
     "data": {
      "text/plain": [
       "'import cv2\\nimport os\\n\\ninput_images_path = \"/kaggle/input\"\\nfiles_names = os.listdir(input_images_path)\\nprint(files_names)\\n\\noutput_images_path = \"C:/Users/acast/OneDrive/Escritorio/PROYECTO IA/imagenes\"\\nif not os.path.exists(output_images_path):\\n    os.makedirs(output_images_path)\\n    print(\"Directorio creado: \", output_images_path)\\n\\ncount = 0\\nfor file_name in files_names:\\n    #print(file_name)\\n    \\n    if file_name.split(\".\")[-1] not in [\"jpeg\", \"png\"]:\\n        continue\\n    \\n    image_path = input_images_path + \"/\" + file_name\\n    print(image_path)\\n    image = cv2.imread(image_path)\\n    if image is None:\\n        continue\\n\\n    image = cv2.cvtColor(image, cv2.COLOR_BGR2GRAY)\\n    image = cv2.resize(image, (100, 100), interpolation=cv2.INTER_CUBIC)\\n\\n    cv2.imwrite(output_images_path + \"/image\" + str(count) + \".jpg\", image)\\n    count += 1\\n    \\n    cv2.imshow(\"Image\", image)\\n    cv2.waitKey(0)\\ncv2.destroyAllWindows()\\n'"
      ]
     },
     "execution_count": 2,
     "metadata": {},
     "output_type": "execute_result"
    }
   ],
   "source": [
    "#IMPRESION DE IMAGENES POR PANTALLA\n",
    "\n",
    "'''import cv2\n",
    "import os\n",
    "\n",
    "input_images_path = \"/kaggle/input\"\n",
    "files_names = os.listdir(input_images_path)\n",
    "print(files_names)\n",
    "\n",
    "output_images_path = \"C:/Users/acast/OneDrive/Escritorio/PROYECTO IA/imagenes\"\n",
    "if not os.path.exists(output_images_path):\n",
    "    os.makedirs(output_images_path)\n",
    "    print(\"Directorio creado: \", output_images_path)\n",
    "\n",
    "count = 0\n",
    "for file_name in files_names:\n",
    "    #print(file_name)\n",
    "    \n",
    "    if file_name.split(\".\")[-1] not in [\"jpeg\", \"png\"]:\n",
    "        continue\n",
    "    \n",
    "    image_path = input_images_path + \"/\" + file_name\n",
    "    print(image_path)\n",
    "    image = cv2.imread(image_path)\n",
    "    if image is None:\n",
    "        continue\n",
    "\n",
    "    image = cv2.cvtColor(image, cv2.COLOR_BGR2GRAY)\n",
    "    image = cv2.resize(image, (100, 100), interpolation=cv2.INTER_CUBIC)\n",
    "\n",
    "    cv2.imwrite(output_images_path + \"/image\" + str(count) + \".jpg\", image)\n",
    "    count += 1\n",
    "    \n",
    "    cv2.imshow(\"Image\", image)\n",
    "    cv2.waitKey(0)\n",
    "cv2.destroyAllWindows()\n",
    "'''"
   ]
  },
  {
   "cell_type": "code",
   "execution_count": 3,
   "id": "b3ad8636",
   "metadata": {
    "execution": {
     "iopub.execute_input": "2022-06-22T22:45:22.348291Z",
     "iopub.status.busy": "2022-06-22T22:45:22.347605Z",
     "iopub.status.idle": "2022-06-22T22:45:22.640161Z",
     "shell.execute_reply": "2022-06-22T22:45:22.639077Z"
    },
    "papermill": {
     "duration": 0.300274,
     "end_time": "2022-06-22T22:45:22.642602",
     "exception": false,
     "start_time": "2022-06-22T22:45:22.342328",
     "status": "completed"
    },
    "tags": []
   },
   "outputs": [
    {
     "data": {
      "text/plain": [
       "<matplotlib.image.AxesImage at 0x7f9964303d90>"
      ]
     },
     "execution_count": 3,
     "metadata": {},
     "output_type": "execute_result"
    },
    {
     "data": {
      "image/png": "[encoded data removed]",
      "text/plain": [
       "<Figure size 432x288 with 1 Axes>"
      ]
     },
     "metadata": {
      "needs_background": "light"
     },
     "output_type": "display_data"
    }
   ],
   "source": [
    "from PIL import Image\n",
    "from matplotlib import pyplot as plt\n",
    "\n",
    "img = Image.open('/kaggle/input/iais22-birds/submission_test/submission_test/1071587.jpg')\n",
    "fig = plt.figure()\n",
    "plt.imshow(img)"
   ]
  },
  {
   "cell_type": "code",
   "execution_count": 4,
   "id": "57536021",
   "metadata": {
    "execution": {
     "iopub.execute_input": "2022-06-22T22:45:22.657184Z",
     "iopub.status.busy": "2022-06-22T22:45:22.656730Z",
     "iopub.status.idle": "2022-06-22T22:45:34.056565Z",
     "shell.execute_reply": "2022-06-22T22:45:34.055291Z"
    },
    "papermill": {
     "duration": 11.410525,
     "end_time": "2022-06-22T22:45:34.059350",
     "exception": false,
     "start_time": "2022-06-22T22:45:22.648825",
     "status": "completed"
    },
    "tags": []
   },
   "outputs": [],
   "source": [
    "import pytorch_lightning as pl\n",
    "import torch\n",
    "import matplotlib.pyplot as plt\n",
    "import torch.nn.functional as F\n",
    "from sklearn.datasets import fetch_openml\n",
    "import numpy as np\n",
    "from torch.utils.data import DataLoader"
   ]
  },
  {
   "cell_type": "code",
   "execution_count": 5,
   "id": "29ac4e90",
   "metadata": {
    "execution": {
     "iopub.execute_input": "2022-06-22T22:45:34.074961Z",
     "iopub.status.busy": "2022-06-22T22:45:34.074138Z",
     "iopub.status.idle": "2022-06-22T22:45:34.085402Z",
     "shell.execute_reply": "2022-06-22T22:45:34.084334Z"
    },
    "papermill": {
     "duration": 0.021685,
     "end_time": "2022-06-22T22:45:34.087504",
     "exception": false,
     "start_time": "2022-06-22T22:45:34.065819",
     "status": "completed"
    },
    "tags": []
   },
   "outputs": [],
   "source": [
    "class Dataset(torch.utils.data.Dataset):\n",
    "    def __init__(self, X, y):\n",
    "        self.X = X\n",
    "        self.y = y\n",
    "\n",
    "    def __len__(self):\n",
    "        return len(self.X)\n",
    "\n",
    "    def __getitem__(self, ix):\n",
    "        return torch.tensor(self.X[ix]).float().view(1, 28, 28), torch.tensor(self.y[ix]).long()\n",
    "\n",
    "class MNISTDataModule(pl.LightningDataModule):\n",
    "\n",
    "    def __init__(self, batch_size: int = 64):\n",
    "        super().__init__()\n",
    "        self.batch_size = batch_size\n",
    "\n",
    "    def setup(self, stage=None):\n",
    "        mnist = fetch_openml('mnist_784', version=1)\n",
    "        X, y = mnist[\"data\"], mnist[\"target\"]\n",
    "        X_train, X_test, y_train, y_test = X[:60000] / 255., X[60000:] / 255., y[:60000].astype(np.int32), y[60000:].astype(np.int32)\n",
    "        self.train_ds = Dataset(X_train, y_train)\n",
    "        self.val_ds = Dataset(X_test, y_test)\n",
    "\n",
    "    def train_dataloader(self):\n",
    "        return DataLoader(self.train_ds, batch_size=self.batch_size, shuffle=True)\n",
    "\n",
    "    def val_dataloader(self):\n",
    "        return DataLoader(self.val_ds, batch_size=self.batch_size)"
   ]
  },
  {
   "cell_type": "code",
   "execution_count": 6,
   "id": "c44e2733",
   "metadata": {
    "execution": {
     "iopub.execute_input": "2022-06-22T22:45:34.102579Z",
     "iopub.status.busy": "2022-06-22T22:45:34.102132Z",
     "iopub.status.idle": "2022-06-22T22:45:34.107147Z",
     "shell.execute_reply": "2022-06-22T22:45:34.106102Z"
    },
    "papermill": {
     "duration": 0.01494,
     "end_time": "2022-06-22T22:45:34.108997",
     "exception": false,
     "start_time": "2022-06-22T22:45:34.094057",
     "status": "completed"
    },
    "tags": []
   },
   "outputs": [],
   "source": [
    "from torchvision import datasets, models, transforms\n",
    "from torch.nn import functional as F\n",
    "import torch.optim as optim\n",
    "from torch import nn"
   ]
  },
  {
   "cell_type": "code",
   "execution_count": 7,
   "id": "6246f2a6",
   "metadata": {
    "execution": {
     "iopub.execute_input": "2022-06-22T22:45:34.123436Z",
     "iopub.status.busy": "2022-06-22T22:45:34.122516Z",
     "iopub.status.idle": "2022-06-22T22:45:35.559714Z",
     "shell.execute_reply": "2022-06-22T22:45:35.558806Z"
    },
    "papermill": {
     "duration": 1.446843,
     "end_time": "2022-06-22T22:45:35.561971",
     "exception": false,
     "start_time": "2022-06-22T22:45:34.115128",
     "status": "completed"
    },
    "tags": []
   },
   "outputs": [
    {
     "name": "stderr",
     "output_type": "stream",
     "text": [
      "Downloading: \"https://download.pytorch.org/models/resnet50-0676ba61.pth\" to /root/.cache/torch/hub/checkpoints/resnet50-0676ba61.pth\n"
     ]
    },
    {
     "data": {
      "application/vnd.jupyter.widget-view+json": {
       "model_id": "7078c44867c34997820ac0bc5661ca0e",
       "version_major": 2,
       "version_minor": 0
      },
      "text/plain": [
       "  0%|          | 0.00/97.8M [00:00<?, ?B/s]"
      ]
     },
     "metadata": {},
     "output_type": "display_data"
    }
   ],
   "source": [
    "# si tienes un hardware con cuda cores,\n",
    "# puedes cambiar este parametros por \"cuda\"\n",
    "device = \"cpu\"\n",
    "\n",
    "# cargar el modelo pre-entrenado\n",
    "# y configurarlo para utilizar el hardware seleccionado previamente\n",
    "model = models.resnet50(pretrained=True).to(device)\n",
    "\n",
    "for param in model.parameters():\n",
    "    param.requires_grad = False\n",
    "\n",
    "# capa personalizada para adaptarse a nuestro caso particular\n",
    "model.fc = nn.Sequential(\n",
    "  nn.Linear(2048, 128),\n",
    "  nn.ReLU(inplace=True),\n",
    "  nn.Linear(128, 2)\n",
    ").to(device)"
   ]
  },
  {
   "cell_type": "code",
   "execution_count": 8,
   "id": "ca72f8a3",
   "metadata": {
    "execution": {
     "iopub.execute_input": "2022-06-22T22:45:35.576556Z",
     "iopub.status.busy": "2022-06-22T22:45:35.575956Z",
     "iopub.status.idle": "2022-06-22T22:45:35.582340Z",
     "shell.execute_reply": "2022-06-22T22:45:35.581338Z"
    },
    "papermill": {
     "duration": 0.015973,
     "end_time": "2022-06-22T22:45:35.584320",
     "exception": false,
     "start_time": "2022-06-22T22:45:35.568347",
     "status": "completed"
    },
    "tags": []
   },
   "outputs": [],
   "source": [
    "normalizer = transforms.Normalize(\n",
    "    [0.5, 0.5, 0.5],\n",
    "    [0.5, 0.5, 0.5]\n",
    "  )\n",
    "\n",
    "transformers = {\n",
    "    'train': transforms.Compose([\n",
    "      transforms.Resize((224, 224)),\n",
    "      transforms.RandomHorizontalFlip(),\n",
    "      transforms.ToTensor(),\n",
    "      normalizer\n",
    "    ]),\n",
    "    'test': transforms.Compose([\n",
    "      transforms.Resize((224, 224)),\n",
    "      transforms.ToTensor(),\n",
    "      normalizer\n",
    "    ])\n",
    "  }"
   ]
  },
  {
   "cell_type": "code",
   "execution_count": 9,
   "id": "3a9bcf85",
   "metadata": {
    "execution": {
     "iopub.execute_input": "2022-06-22T22:45:35.598159Z",
     "iopub.status.busy": "2022-06-22T22:45:35.597740Z",
     "iopub.status.idle": "2022-06-22T22:45:47.415439Z",
     "shell.execute_reply": "2022-06-22T22:45:47.414412Z"
    },
    "papermill": {
     "duration": 11.827636,
     "end_time": "2022-06-22T22:45:47.418291",
     "exception": false,
     "start_time": "2022-06-22T22:45:35.590655",
     "status": "completed"
    },
    "tags": []
   },
   "outputs": [],
   "source": [
    "data_set = {\n",
    "  'train': datasets.ImageFolder('/kaggle/input/iais22-birds/birds/birds', transformers['train']),\n",
    "  'test': datasets.ImageFolder('/kaggle/input/iais22-birds/submission_test', transformers['test'])\n",
    "}"
   ]
  },
  {
   "cell_type": "code",
   "execution_count": 10,
   "id": "1cca393c",
   "metadata": {
    "execution": {
     "iopub.execute_input": "2022-06-22T22:45:47.433424Z",
     "iopub.status.busy": "2022-06-22T22:45:47.432946Z",
     "iopub.status.idle": "2022-06-22T22:45:47.438272Z",
     "shell.execute_reply": "2022-06-22T22:45:47.437396Z"
    },
    "papermill": {
     "duration": 0.015199,
     "end_time": "2022-06-22T22:45:47.440145",
     "exception": false,
     "start_time": "2022-06-22T22:45:47.424946",
     "status": "completed"
    },
    "tags": []
   },
   "outputs": [],
   "source": [
    "data_loaders = {\n",
    "  'train': torch.utils.data.DataLoader(\n",
    "    data_set['train'],\n",
    "    batch_size=32,\n",
    "    shuffle=True,\n",
    "    num_workers=2\n",
    "  ),\n",
    "  'test': torch.utils.data.DataLoader(\n",
    "    data_set['test'],\n",
    "    batch_size=32,\n",
    "    shuffle=False,\n",
    "    num_workers=2\n",
    "  )\n",
    "}"
   ]
  },
  {
   "cell_type": "code",
   "execution_count": 11,
   "id": "c0e971c8",
   "metadata": {
    "execution": {
     "iopub.execute_input": "2022-06-22T22:45:47.455555Z",
     "iopub.status.busy": "2022-06-22T22:45:47.454807Z",
     "iopub.status.idle": "2022-06-22T22:45:47.459426Z",
     "shell.execute_reply": "2022-06-22T22:45:47.458568Z"
    },
    "papermill": {
     "duration": 0.014651,
     "end_time": "2022-06-22T22:45:47.461422",
     "exception": false,
     "start_time": "2022-06-22T22:45:47.446771",
     "status": "completed"
    },
    "tags": []
   },
   "outputs": [],
   "source": [
    "criterion = nn.CrossEntropyLoss()\n",
    "optimizer = optim.Adam(model.fc.parameters())"
   ]
  },
  {
   "cell_type": "code",
   "execution_count": 12,
   "id": "548331c7",
   "metadata": {
    "execution": {
     "iopub.execute_input": "2022-06-22T22:45:47.476493Z",
     "iopub.status.busy": "2022-06-22T22:45:47.475733Z",
     "iopub.status.idle": "2022-06-22T22:45:47.482710Z",
     "shell.execute_reply": "2022-06-22T22:45:47.482015Z"
    },
    "papermill": {
     "duration": 0.01687,
     "end_time": "2022-06-22T22:45:47.484723",
     "exception": false,
     "start_time": "2022-06-22T22:45:47.467853",
     "status": "completed"
    },
    "tags": []
   },
   "outputs": [],
   "source": [
    "def model_train(phase):\n",
    "    running_loss = 0.0\n",
    "    running_corrects = 0.0\n",
    "\n",
    "    for x, y in data_loaders[phase]:\n",
    "    # ingresar X y Y en el hardware\n",
    "        inputs = x.to(device)\n",
    "        labels = y.to(device)\n",
    "\n",
    "    # realizar la prediccion\n",
    "        outputs = model(inputs)\n",
    "    # medir el error\n",
    "        loss = criterion(outputs, labels)\n",
    "\n",
    "    # para fase de train, es necesario\n",
    "    # efectuar la parte de aprendizaje\n",
    "        if phase == 'train':\n",
    "            optimizer.zero_grad()\n",
    "            loss.backward()\n",
    "            optimizer.step()\n",
    "    \n",
    "        _, prediction = torch.max(outputs, 1)\n",
    "    # medir como va mejorando/empeorando el modelo en esta fase\n",
    "        running_loss += loss.item() * inputs.size(0)\n",
    "        running_corrects += torch.sum(prediction == labels.data)\n",
    "  \n",
    "  # medir como va mejorando/empeorando el modelo en la iteracion (epoch)\n",
    "    epoch_loss = running_loss / len(data_set[phase])\n",
    "    eopch_corrects = running_corrects.double() / len(data_set[phase])"
   ]
  },
  {
   "cell_type": "code",
   "execution_count": 13,
   "id": "2f4aebef",
   "metadata": {
    "execution": {
     "iopub.execute_input": "2022-06-22T22:45:47.499958Z",
     "iopub.status.busy": "2022-06-22T22:45:47.499168Z",
     "iopub.status.idle": "2022-06-22T22:45:47.504716Z",
     "shell.execute_reply": "2022-06-22T22:45:47.504072Z"
    },
    "papermill": {
     "duration": 0.015415,
     "end_time": "2022-06-22T22:45:47.506505",
     "exception": false,
     "start_time": "2022-06-22T22:45:47.491090",
     "status": "completed"
    },
    "tags": []
   },
   "outputs": [
    {
     "data": {
      "text/plain": [
       "\"epochs = 10\\n\\nfor epoch in range(epochs):\\n    for phase in ['train', 'test']:\\n        model_train(phase)\""
      ]
     },
     "execution_count": 13,
     "metadata": {},
     "output_type": "execute_result"
    }
   ],
   "source": [
    "#da error\n",
    "'''epochs = 10\n",
    "\n",
    "for epoch in range(epochs):\n",
    "    for phase in ['train', 'test']:\n",
    "        model_train(phase)'''"
   ]
  },
  {
   "cell_type": "code",
   "execution_count": 14,
   "id": "fe8e9069",
   "metadata": {
    "execution": {
     "iopub.execute_input": "2022-06-22T22:45:47.522095Z",
     "iopub.status.busy": "2022-06-22T22:45:47.521319Z",
     "iopub.status.idle": "2022-06-22T22:45:47.526717Z",
     "shell.execute_reply": "2022-06-22T22:45:47.526070Z"
    },
    "papermill": {
     "duration": 0.015496,
     "end_time": "2022-06-22T22:45:47.528401",
     "exception": false,
     "start_time": "2022-06-22T22:45:47.512905",
     "status": "completed"
    },
    "tags": []
   },
   "outputs": [
    {
     "data": {
      "text/plain": [
       "\"torch.save(trained_model.state_dict(), 'path')\""
      ]
     },
     "execution_count": 14,
     "metadata": {},
     "output_type": "execute_result"
    }
   ],
   "source": [
    "#guardar el modelo\n",
    "'''torch.save(trained_model.state_dict(), 'path')'''"
   ]
  }
 ],
 "metadata": {
  "kernelspec": {
   "display_name": "Python 3",
   "language": "python",
   "name": "python3"
  },
  "language_info": {
   "codemirror_mode": {
    "name": "ipython",
    "version": 3
   },
   "file_extension": ".py",
   "mimetype": "text/x-python",
   "name": "python",
   "nbconvert_exporter": "python",
   "pygments_lexer": "ipython3",
   "version": "3.7.12"
  },
  "papermill": {
   "default_parameters": {},
   "duration": 37.696608,
   "end_time": "2022-06-22T22:45:50.654331",
   "environment_variables": {},
   "exception": null,
   "input_path": "__notebook__.ipynb",
   "output_path": "__notebook__.ipynb",
   "parameters": {},
   "start_time": "2022-06-22T22:45:12.957723",
   "version": "2.3.4"
  },
  "widgets": {
   "application/vnd.jupyter.widget-state+json": {
    "state": {
     "0ff071b89ea14382aa4d50d76a2806a8": {
      "model_module": "@jupyter-widgets/base",
      "model_module_version": "1.2.0",
      "model_name": "LayoutModel",
      "state": {
       "_model_module": "@jupyter-widgets/base",
       "_model_module_version": "1.2.0",
       "_model_name": "LayoutModel",
       "_view_count": null,
       "_view_module": "@jupyter-widgets/base",
       "_view_module_version": "1.2.0",
       "_view_name": "LayoutView",
       "align_content": null,
       "align_items": null,
       "align_self": null,
       "border": null,
       "bottom": null,
       "display": null,
       "flex": null,
       "flex_flow": null,
       "grid_area": null,
       "grid_auto_columns": null,
       "grid_auto_flow": null,
       "grid_auto_rows": null,
       "grid_column": null,
       "grid_gap": null,
       "grid_row": null,
       "grid_template_areas": null,
       "grid_template_columns": null,
       "grid_template_rows": null,
       "height": null,
       "justify_content": null,
       "justify_items": null,
       "left": null,
       "margin": null,
       "max_height": null,
       "max_width": null,
       "min_height": null,
       "min_width": null,
       "object_fit": null,
       "object_position": null,
       "order": null,
       "overflow": null,
       "overflow_x": null,
       "overflow_y": null,
       "padding": null,
       "right": null,
       "top": null,
       "visibility": null,
       "width": null
      }
     },
     "21bb83b7c47e434f91724299917f7f14": {
      "model_module": "@jupyter-widgets/controls",
      "model_module_version": "1.5.0",
      "model_name": "ProgressStyleModel",
      "state": {
       "_model_module": "@jupyter-widgets/controls",
       "_model_module_version": "1.5.0",
       "_model_name": "ProgressStyleModel",
       "_view_count": null,
       "_view_module": "@jupyter-widgets/base",
       "_view_module_version": "1.2.0",
       "_view_name": "StyleView",
       "bar_color": null,
       "description_width": ""
      }
     },
     "38658e734da4427cada8d2efc56690b9": {
      "model_module": "@jupyter-widgets/controls",
      "model_module_version": "1.5.0",
      "model_name": "HTMLModel",
      "state": {
       "_dom_classes": [],
       "_model_module": "@jupyter-widgets/controls",
       "_model_module_version": "1.5.0",
       "_model_name": "HTMLModel",
       "_view_count": null,
       "_view_module": "@jupyter-widgets/controls",
       "_view_module_version": "1.5.0",
       "_view_name": "HTMLView",
       "description": "",
       "description_tooltip": null,
       "layout": "IPY_MODEL_7ac6ccfbb7fb40f99e20b44365811307",
       "placeholder": "​",
       "style": "IPY_MODEL_8dae913dab984aeca65881bce5c9c91a",
       "value": "100%"
      }
     },
     "7078c44867c34997820ac0bc5661ca0e": {
      "model_module": "@jupyter-widgets/controls",
      "model_module_version": "1.5.0",
      "model_name": "HBoxModel",
      "state": {
       "_dom_classes": [],
       "_model_module": "@jupyter-widgets/controls",
       "_model_module_version": "1.5.0",
       "_model_name": "HBoxModel",
       "_view_count": null,
       "_view_module": "@jupyter-widgets/controls",
       "_view_module_version": "1.5.0",
       "_view_name": "HBoxView",
       "box_style": "",
       "children": [
        "IPY_MODEL_38658e734da4427cada8d2efc56690b9",
        "IPY_MODEL_8628a28a59a14512968de1e59412e9df",
        "IPY_MODEL_b5f9e4e085d344e5ad854a0d227ec8cd"
       ],
       "layout": "IPY_MODEL_0ff071b89ea14382aa4d50d76a2806a8"
      }
     },
     "7ac6ccfbb7fb40f99e20b44365811307": {
      "model_module": "@jupyter-widgets/base",
      "model_module_version": "1.2.0",
      "model_name": "LayoutModel",
      "state": {
       "_model_module": "@jupyter-widgets/base",
       "_model_module_version": "1.2.0",
       "_model_name": "LayoutModel",
       "_view_count": null,
       "_view_module": "@jupyter-widgets/base",
       "_view_module_version": "1.2.0",
       "_view_name": "LayoutView",
       "align_content": null,
       "align_items": null,
       "align_self": null,
       "border": null,
       "bottom": null,
       "display": null,
       "flex": null,
       "flex_flow": null,
       "grid_area": null,
       "grid_auto_columns": null,
       "grid_auto_flow": null,
       "grid_auto_rows": null,
       "grid_column": null,
       "grid_gap": null,
       "grid_row": null,
       "grid_template_areas": null,
       "grid_template_columns": null,
       "grid_template_rows": null,
       "height": null,
       "justify_content": null,
       "justify_items": null,
       "left": null,
       "margin": null,
       "max_height": null,
       "max_width": null,
       "min_height": null,
       "min_width": null,
       "object_fit": null,
       "object_position": null,
       "order": null,
       "overflow": null,
       "overflow_x": null,
       "overflow_y": null,
       "padding": null,
       "right": null,
       "top": null,
       "visibility": null,
       "width": null
      }
     },
     "8628a28a59a14512968de1e59412e9df": {
      "model_module": "@jupyter-widgets/controls",
      "model_module_version": "1.5.0",
      "model_name": "FloatProgressModel",
      "state": {
       "_dom_classes": [],
       "_model_module": "@jupyter-widgets/controls",
       "_model_module_version": "1.5.0",
       "_model_name": "FloatProgressModel",
       "_view_count": null,
       "_view_module": "@jupyter-widgets/controls",
       "_view_module_version": "1.5.0",
       "_view_name": "ProgressView",
       "bar_style": "success",
       "description": "",
       "description_tooltip": null,
       "layout": "IPY_MODEL_da74ae51b4124e939b0f950cd49090ce",
       "max": 102530333.0,
       "min": 0.0,
       "orientation": "horizontal",
       "style": "IPY_MODEL_21bb83b7c47e434f91724299917f7f14",
       "value": 102530333.0
      }
     },
     "8dae913dab984aeca65881bce5c9c91a": {
      "model_module": "@jupyter-widgets/controls",
      "model_module_version": "1.5.0",
      "model_name": "DescriptionStyleModel",
      "state": {
       "_model_module": "@jupyter-widgets/controls",
       "_model_module_version": "1.5.0",
       "_model_name": "DescriptionStyleModel",
       "_view_count": null,
       "_view_module": "@jupyter-widgets/base",
       "_view_module_version": "1.2.0",
       "_view_name": "StyleView",
       "description_width": ""
      }
     },
     "8e29a7e2d3494d26888dd5f5d16dd2b8": {
      "model_module": "@jupyter-widgets/controls",
      "model_module_version": "1.5.0",
      "model_name": "DescriptionStyleModel",
      "state": {
       "_model_module": "@jupyter-widgets/controls",
       "_model_module_version": "1.5.0",
       "_model_name": "DescriptionStyleModel",
       "_view_count": null,
       "_view_module": "@jupyter-widgets/base",
       "_view_module_version": "1.2.0",
       "_view_name": "StyleView",
       "description_width": ""
      }
     },
     "b5f9e4e085d344e5ad854a0d227ec8cd": {
      "model_module": "@jupyter-widgets/controls",
      "model_module_version": "1.5.0",
      "model_name": "HTMLModel",
      "state": {
       "_dom_classes": [],
       "_model_module": "@jupyter-widgets/controls",
       "_model_module_version": "1.5.0",
       "_model_name": "HTMLModel",
       "_view_count": null,
       "_view_module": "@jupyter-widgets/controls",
       "_view_module_version": "1.5.0",
       "_view_name": "HTMLView",
       "description": "",
       "description_tooltip": null,
       "layout": "IPY_MODEL_cc42cd61185e488ca3328b9ee7c90315",
       "placeholder": "​",
       "style": "IPY_MODEL_8e29a7e2d3494d26888dd5f5d16dd2b8",
       "value": " 97.8M/97.8M [00:00&lt;00:00, 200MB/s]"
      }
     },
     "cc42cd61185e488ca3328b9ee7c90315": {
      "model_module": "@jupyter-widgets/base",
      "model_module_version": "1.2.0",
      "model_name": "LayoutModel",
      "state": {
       "_model_module": "@jupyter-widgets/base",
       "_model_module_version": "1.2.0",
       "_model_name": "LayoutModel",
       "_view_count": null,
       "_view_module": "@jupyter-widgets/base",
       "_view_module_version": "1.2.0",
       "_view_name": "LayoutView",
       "align_content": null,
       "align_items": null,
       "align_self": null,
       "border": null,
       "bottom": null,
       "display": null,
       "flex": null,
       "flex_flow": null,
       "grid_area": null,
       "grid_auto_columns": null,
       "grid_auto_flow": null,
       "grid_auto_rows": null,
       "grid_column": null,
       "grid_gap": null,
       "grid_row": null,
       "grid_template_areas": null,
       "grid_template_columns": null,
       "grid_template_rows": null,
       "height": null,
       "justify_content": null,
       "justify_items": null,
       "left": null,
       "margin": null,
       "max_height": null,
       "max_width": null,
       "min_height": null,
       "min_width": null,
       "object_fit": null,
       "object_position": null,
       "order": null,
       "overflow": null,
       "overflow_x": null,
       "overflow_y": null,
       "padding": null,
       "right": null,
       "top": null,
       "visibility": null,
       "width": null
      }
     },
     "da74ae51b4124e939b0f950cd49090ce": {
      "model_module": "@jupyter-widgets/base",
      "model_module_version": "1.2.0",
      "model_name": "LayoutModel",
      "state": {
       "_model_module": "@jupyter-widgets/base",
       "_model_module_version": "1.2.0",
       "_model_name": "LayoutModel",
       "_view_count": null,
       "_view_module": "@jupyter-widgets/base",
       "_view_module_version": "1.2.0",
       "_view_name": "LayoutView",
       "align_content": null,
       "align_items": null,
       "align_self": null,
       "border": null,
       "bottom": null,
       "display": null,
       "flex": null,
       "flex_flow": null,
       "grid_area": null,
       "grid_auto_columns": null,
       "grid_auto_flow": null,
       "grid_auto_rows": null,
       "grid_column": null,
       "grid_gap": null,
       "grid_row": null,
       "grid_template_areas": null,
       "grid_template_columns": null,
       "grid_template_rows": null,
       "height": null,
       "justify_content": null,
       "justify_items": null,
       "left": null,
       "margin": null,
       "max_height": null,
       "max_width": null,
       "min_height": null,
       "min_width": null,
       "object_fit": null,
       "object_position": null,
       "order": null,
       "overflow": null,
       "overflow_x": null,
       "overflow_y": null,
       "padding": null,
       "right": null,
       "top": null,
       "visibility": null,
       "width": null
      }
     }
    },
    "version_major": 2,
    "version_minor": 0
   }
  }
 },
 "nbformat": 4,
 "nbformat_minor": 5
}
